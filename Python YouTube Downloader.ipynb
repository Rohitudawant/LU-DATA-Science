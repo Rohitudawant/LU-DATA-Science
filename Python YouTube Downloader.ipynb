{
 "cells": [
  {
   "cell_type": "markdown",
   "metadata": {},
   "source": [
    "# Project 3 :- Python YouTube Downloader"
   ]
  },
  {
   "cell_type": "code",
   "execution_count": 1,
   "metadata": {},
   "outputs": [
    {
     "name": "stdout",
     "output_type": "stream",
     "text": [
      "Requirement already satisfied: pytube in c:\\users\\a\\appdata\\local\\programs\\python\\python39\\lib\\site-packages (10.0.0)\n",
      "Requirement already satisfied: typing-extensions in c:\\users\\a\\appdata\\local\\programs\\python\\python39\\lib\\site-packages (from pytube) (3.7.4.3)\n",
      "Note: you may need to restart the kernel to use updated packages.\n"
     ]
    }
   ],
   "source": [
    "pip install pytube"
   ]
  },
  {
   "cell_type": "code",
   "execution_count": 2,
   "metadata": {},
   "outputs": [],
   "source": [
    "from pytube import YouTube\n",
    "from tkinter import *\n",
    "\n",
    "root = Tk()\n",
    "root.geometry('640x400')\n",
    "\n",
    "root.title(\"You tube video Download\")\n",
    "\n",
    "def youtube():\n",
    "    a = var.get()\n",
    "    ytvideo=YouTube(a).streams.filter(progressive=True, file_extension='mp4').order_by('resolution').desc().first()\n",
    "    ytvideo.download(r\"E:\\Rohit\")\n",
    "    print(\"hey\")\n",
    "    \n",
    "Label_1=Label(root,text=\"Paste The Youtube Link Here\", font=(\"bold\",20))\n",
    "Label_1.place(x=120,y=20)\n",
    "\n",
    "var = StringVar()\n",
    "\n",
    "e1 = Entry(root,textvariable=var,width=60)\n",
    "e1.place(x=120,y=80)\n",
    "\n",
    "b1 = Button(root,text = 'Download',command=youtube,bg=\"green\",width=20,fg=\"white\")\n",
    "b1.place(x=220,y=120)\n",
    "\n",
    "root.mainloop()"
   ]
  }
 ],
 "metadata": {
  "kernelspec": {
   "display_name": "Python 3",
   "language": "python",
   "name": "python3"
  },
  "language_info": {
   "codemirror_mode": {
    "name": "ipython",
    "version": 3
   },
   "file_extension": ".py",
   "mimetype": "text/x-python",
   "name": "python",
   "nbconvert_exporter": "python",
   "pygments_lexer": "ipython3",
   "version": "3.9.0"
  }
 },
 "nbformat": 4,
 "nbformat_minor": 4
}
